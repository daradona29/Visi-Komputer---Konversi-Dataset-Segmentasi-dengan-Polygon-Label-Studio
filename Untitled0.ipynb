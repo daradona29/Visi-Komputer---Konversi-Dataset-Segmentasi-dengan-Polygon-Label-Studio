{
  "cells": [
    {
      "cell_type": "code",
      "execution_count": 1,
      "metadata": {
        "colab": {
          "base_uri": "https://localhost:8080/"
        },
        "id": "P2ZeihyGjWpB",
        "outputId": "8c06ff0d-46e6-4442-d56d-0ad83312390a"
      },
      "outputs": [
        {
          "name": "stdout",
          "output_type": "stream",
          "text": [
            "Requirement already satisfied: numpy in d:\\miniconda\\envs\\modsim\\lib\\site-packages (1.24.3)\n"
          ]
        },
        {
          "name": "stderr",
          "output_type": "stream",
          "text": [
            "WARNING: There was an error checking the latest version of pip.\n"
          ]
        },
        {
          "name": "stdout",
          "output_type": "stream",
          "text": [
            "Requirement already satisfied: opencv-python in d:\\miniconda\\envs\\modsim\\lib\\site-packages (4.8.1.78)\n",
            "Requirement already satisfied: numpy>=1.17.0 in d:\\miniconda\\envs\\modsim\\lib\\site-packages (from opencv-python) (1.24.3)\n"
          ]
        },
        {
          "name": "stderr",
          "output_type": "stream",
          "text": [
            "WARNING: There was an error checking the latest version of pip.\n"
          ]
        }
      ],
      "source": [
        "!pip install numpy\n",
        "!pip install opencv-python"
      ]
    },
    {
      "cell_type": "code",
      "execution_count": 2,
      "metadata": {
        "id": "Dkc-S6sziEq_"
      },
      "outputs": [],
      "source": [
        "import numpy as np\n",
        "import cv2\n",
        "import json\n",
        "import os"
      ]
    },
    {
      "cell_type": "code",
      "execution_count": 5,
      "metadata": {
        "id": "ovk58e3AjkvQ"
      },
      "outputs": [],
      "source": [
        "JSON_PATH = 'JSON segmentasi_dataset_revisi.json'\n",
        "IMAGES_PATH = 'images'\n",
        "LABELS_PATH = 'labels'\n",
        "LABELS_COLOR_PATH = 'labels1_color'"
      ]
    },
    {
      "cell_type": "code",
      "execution_count": 9,
      "metadata": {
        "id": "IKIZGstEkBv5"
      },
      "outputs": [],
      "source": [
        "# TODO buat list di text aja\n",
        "MOBIL = 1\n",
        "TRUK = 2\n",
        "\n",
        "MOBIL_COLOR = (255,0,0)\n",
        "TRUK_COLOR = (0,255,0)\n",
        "\n",
        "if not os.path.exists(LABELS_PATH):\n",
        "    os.makedirs(LABELS_PATH)\n",
        "\n",
        "if not os.path.exists(LABELS_COLOR_PATH):\n",
        "    os.makedirs(LABELS_COLOR_PATH)"
      ]
    },
    {
      "cell_type": "code",
      "execution_count": 10,
      "metadata": {
        "colab": {
          "base_uri": "https://localhost:8080/",
          "height": 262
        },
        "id": "m6Offmd_oKE-",
        "outputId": "dce40362-ee1b-487b-a3cd-11b70282ccef"
      },
      "outputs": [
        {
          "name": "stdout",
          "output_type": "stream",
          "text": [
            "fb26c02b-m1.jpg\n"
          ]
        },
        {
          "ename": "AttributeError",
          "evalue": "'NoneType' object has no attribute 'shape'",
          "output_type": "error",
          "traceback": [
            "\u001b[1;31m---------------------------------------------------------------------------\u001b[0m",
            "\u001b[1;31mAttributeError\u001b[0m                            Traceback (most recent call last)",
            "Cell \u001b[1;32mIn[10], line 7\u001b[0m\n\u001b[0;32m      5\u001b[0m \u001b[38;5;28mprint\u001b[39m(file_upload)\n\u001b[0;32m      6\u001b[0m img \u001b[38;5;241m=\u001b[39m cv2\u001b[38;5;241m.\u001b[39mimread(IMAGES_PATH\u001b[38;5;241m+\u001b[39m\u001b[38;5;124m'\u001b[39m\u001b[38;5;130;01m\\\\\u001b[39;00m\u001b[38;5;124m'\u001b[39m\u001b[38;5;241m+\u001b[39mfile_upload)\n\u001b[1;32m----> 7\u001b[0m height, width, channels \u001b[38;5;241m=\u001b[39m \u001b[43mimg\u001b[49m\u001b[38;5;241;43m.\u001b[39;49m\u001b[43mshape\u001b[49m\n\u001b[0;32m      8\u001b[0m label_image  \u001b[38;5;241m=\u001b[39m np\u001b[38;5;241m.\u001b[39mzeros([height, width], dtype\u001b[38;5;241m=\u001b[39mnp\u001b[38;5;241m.\u001b[39muint8)\n\u001b[0;32m      9\u001b[0m label_color  \u001b[38;5;241m=\u001b[39m np\u001b[38;5;241m.\u001b[39mzeros([height, width, \u001b[38;5;241m3\u001b[39m], dtype\u001b[38;5;241m=\u001b[39mnp\u001b[38;5;241m.\u001b[39muint8)\n",
            "\u001b[1;31mAttributeError\u001b[0m: 'NoneType' object has no attribute 'shape'"
          ]
        }
      ],
      "source": [
        "f = open(JSON_PATH)\n",
        "data = json.load(f)\n",
        "for dt in data:\n",
        "    file_upload = dt['file_upload']\n",
        "    print(file_upload)\n",
        "    img = cv2.imread(IMAGES_PATH+'\\\\'+file_upload)\n",
        "    height, width, channels = img.shape\n",
        "    label_image  = np.zeros([height, width], dtype=np.uint8)\n",
        "    label_color  = np.zeros([height, width, 3], dtype=np.uint8)\n",
        "\n",
        "    for ano in dt['annotations']:\n",
        "        for res in ano['result']:\n",
        "            ori_height = res['original_height']\n",
        "            ori_width = res['original_width']\n",
        "            if height!=ori_height and width!=ori_width:\n",
        "              raise Exception(\"Size not match!\")\n",
        "\n",
        "            label = res['value']['polygonlabels'][0]\n",
        "            labelnum = 0\n",
        "            labelcol = (255,255,255)\n",
        "            if label=='mobil':\n",
        "                labelnum = MOBIL\n",
        "                labelcol = MOBIL_COLOR\n",
        "            elif label=='truk':\n",
        "                labelnum = TRUK\n",
        "                labelcol = TRUK_COLOR\n",
        "            print(label)\n",
        "\n",
        "            points = res['value']['points']\n",
        "            points_abs = [\n",
        "                    (int(x / 100 * width), int(y / 100 * height)) for x, y in points\n",
        "                ]\n",
        "            points_np = np.array(points_abs)\n",
        "            cv2.fillPoly(label_image, pts = [points_np], color =labelnum)\n",
        "            cv2.fillPoly(label_color, pts = [points_np], color =labelcol)\n",
        "\n",
        "    cv2.imwrite(LABELS_PATH+'\\\\'+file_upload+'.png', label_image)\n",
        "    cv2.imwrite(LABELS_COLOR_PATH+'\\\\'+file_upload+'.png', label_color)\n"
      ]
    },
    {
      "cell_type": "code",
      "execution_count": null,
      "metadata": {
        "id": "G6tJRIJhokM5"
      },
      "outputs": [],
      "source": []
    }
  ],
  "metadata": {
    "colab": {
      "provenance": []
    },
    "kernelspec": {
      "display_name": "Python 3",
      "name": "python3"
    },
    "language_info": {
      "codemirror_mode": {
        "name": "ipython",
        "version": 3
      },
      "file_extension": ".py",
      "mimetype": "text/x-python",
      "name": "python",
      "nbconvert_exporter": "python",
      "pygments_lexer": "ipython3",
      "version": "3.9.16"
    }
  },
  "nbformat": 4,
  "nbformat_minor": 0
}
